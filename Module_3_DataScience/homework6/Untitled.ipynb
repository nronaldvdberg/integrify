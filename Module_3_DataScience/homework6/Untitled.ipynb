{
 "cells": [
  {
   "cell_type": "code",
   "execution_count": 3,
   "id": "e0727d30-4e75-4855-b781-f931a1048502",
   "metadata": {},
   "outputs": [
    {
     "data": {
      "text/plain": [
       "['167.71.230.124:8080',\n",
       " '192.155.107.211:1080',\n",
       " '77.238.79.111:8080',\n",
       " '167.71.5.83:3128',\n",
       " '195.189.123.213:3128',\n",
       " '8.210.83.33:80',\n",
       " '80.48.119.28:8080',\n",
       " '152.0.209.175:8080',\n",
       " '187.217.54.84:80',\n",
       " '169.57.1.85:8123']"
      ]
     },
     "execution_count": 3,
     "metadata": {},
     "output_type": "execute_result"
    }
   ],
   "source": [
    "proxy_list = \"167.71.230.124:8080 192.155.107.211:1080 77.238.79.111:8080 167.71.5.83:3128 195.189.123.213:3128 8.210.83.33:80 80.48.119.28:8080 152.0.209.175:8080 187.217.54.84:80 169.57.1.85:8123\".split()\n",
    "proxy_list"
   ]
  },
  {
   "cell_type": "code",
   "execution_count": null,
   "id": "954a67cd-43fe-4156-8669-3759be36fe20",
   "metadata": {},
   "outputs": [],
   "source": []
  }
 ],
 "metadata": {
  "kernelspec": {
   "display_name": "Python 3 (ipykernel)",
   "language": "python",
   "name": "python3"
  },
  "language_info": {
   "codemirror_mode": {
    "name": "ipython",
    "version": 3
   },
   "file_extension": ".py",
   "mimetype": "text/x-python",
   "name": "python",
   "nbconvert_exporter": "python",
   "pygments_lexer": "ipython3",
   "version": "3.9.13"
  }
 },
 "nbformat": 4,
 "nbformat_minor": 5
}
