{
 "cells": [
  {
   "cell_type": "code",
   "execution_count": null,
   "id": "519d54d0-6ff9-427e-b0c7-f9477f37383a",
   "metadata": {},
   "outputs": [
    {
     "name": "stdout",
     "output_type": "stream",
     "text": [
      "WARN: Could not locate executable g77\n",
      "WARN: Could not locate executable f77\n",
      "WARN: Could not locate executable ifort\n",
      "WARN: Could not locate executable ifl\n",
      "WARN: Could not locate executable f90\n",
      "WARN: Could not locate executable DF\n",
      "WARN: Could not locate executable efl\n",
      "WARN: Could not locate executable gfortran\n",
      "WARN: Could not locate executable f95\n",
      "WARN: Could not locate executable g95\n",
      "WARN: Could not locate executable efort\n",
      "WARN: Could not locate executable efc\n",
      "WARN: Could not locate executable flang\n",
      "WARN: don't know how to compile Fortran code on platform 'nt'\n"
     ]
    },
    {
     "name": "stderr",
     "output_type": "stream",
     "text": [
      "WARNING (theano.configdefaults): g++ not available, if using conda: `conda install m2w64-toolchain`\n",
      "WARNING (theano.configdefaults): g++ not detected ! Theano will be unable to execute optimized C-implementations (for both CPU and GPU) and will default to Python implementations. Performance will be severely degraded. To remove this warning, set Theano flags cxx to an empty string.\n",
      "WARNING (theano.tensor.blas): Using NumPy C-API based implementation for BLAS functions.\n",
      "C:\\Users\\realragnvaldr\\anaconda3\\lib\\site-packages\\deprecat\\classic.py:215: FutureWarning: In v4.0, pm.sample will return an `arviz.InferenceData` object instead of a `MultiTrace` by default. You can pass return_inferencedata=True or return_inferencedata=False to be safe and silence this warning.\n",
      "  return wrapped_(*args_, **kwargs_)\n",
      "Auto-assigning NUTS sampler...\n",
      "Initializing NUTS using jitter+adapt_diag...\n",
      "C:\\Users\\realragnvaldr\\anaconda3\\lib\\site-packages\\theano\\tensor\\elemwise.py:826: RuntimeWarning: divide by zero encountered in log\n",
      "  variables = ufunc(*ufunc_args, **ufunc_kwargs)\n",
      "C:\\Users\\realragnvaldr\\anaconda3\\lib\\site-packages\\theano\\tensor\\elemwise.py:826: RuntimeWarning: invalid value encountered in multiply\n",
      "  variables = ufunc(*ufunc_args, **ufunc_kwargs)\n",
      "C:\\Users\\realragnvaldr\\anaconda3\\lib\\site-packages\\theano\\tensor\\elemwise.py:826: RuntimeWarning: invalid value encountered in log\n",
      "  variables = ufunc(*ufunc_args, **ufunc_kwargs)\n",
      "Multiprocess sampling (4 chains in 4 jobs)\n",
      "NUTS: [sd, mu]\n"
     ]
    },
    {
     "data": {
      "text/html": [
       "\n",
       "<style>\n",
       "    /* Turns off some styling */\n",
       "    progress {\n",
       "        /* gets rid of default border in Firefox and Opera. */\n",
       "        border: none;\n",
       "        /* Needs to be in here for Safari polyfill so background images work as expected. */\n",
       "        background-size: auto;\n",
       "    }\n",
       "    progress:not([value]), progress:not([value])::-webkit-progress-bar {\n",
       "        background: repeating-linear-gradient(45deg, #7e7e7e, #7e7e7e 10px, #5c5c5c 10px, #5c5c5c 20px);\n",
       "    }\n",
       "    .progress-bar-interrupted, .progress-bar-interrupted::-webkit-progress-bar {\n",
       "        background: #F44336;\n",
       "    }\n",
       "</style>\n"
      ],
      "text/plain": [
       "<IPython.core.display.HTML object>"
      ]
     },
     "metadata": {},
     "output_type": "display_data"
    },
    {
     "data": {
      "text/html": [
       "\n",
       "    <div>\n",
       "      <progress value='16000' class='' max='16000' style='width:300px; height:20px; vertical-align: middle;'></progress>\n",
       "      100.00% [16000/16000 00:53&lt;00:00 Sampling 4 chains, 0 divergences]\n",
       "    </div>\n",
       "    "
      ],
      "text/plain": [
       "<IPython.core.display.HTML object>"
      ]
     },
     "metadata": {},
     "output_type": "display_data"
    },
    {
     "name": "stderr",
     "output_type": "stream",
     "text": [
      "Sampling 4 chains for 2_000 tune and 2_000 draw iterations (8_000 + 8_000 draws total) took 73 seconds.\n",
      "WARNING (aesara.configdefaults): g++ not available, if using conda: `conda install m2w64-toolchain`\n",
      "WARNING (aesara.configdefaults): g++ not detected!  Aesara will be unable to compile C-implementations and will default to Python. Performance may be severely degraded. To remove this warning, set Aesara flags cxx to an empty string.\n",
      "WARNING (aesara.tensor.blas): Using NumPy C-API based implementation for BLAS functions.\n",
      "Got error No model on context stack. trying to find log_likelihood in translation.\n",
      "C:\\Users\\realragnvaldr\\anaconda3\\lib\\site-packages\\arviz\\data\\io_pymc3_3x.py:98: FutureWarning: Using `from_pymc3` without the model will be deprecated in a future release. Not using the model will return less accurate and less useful results. Make sure you use the model argument or call from_pymc3 within a model context.\n",
      "  warnings.warn(\n",
      "C:\\Users\\realragnvaldr\\anaconda3\\lib\\site-packages\\deprecat\\classic.py:215: FutureWarning: In v4.0, pm.sample will return an `arviz.InferenceData` object instead of a `MultiTrace` by default. You can pass return_inferencedata=True or return_inferencedata=False to be safe and silence this warning.\n",
      "  return wrapped_(*args_, **kwargs_)\n",
      "Auto-assigning NUTS sampler...\n",
      "Initializing NUTS using jitter+adapt_diag...\n",
      "C:\\Users\\realragnvaldr\\anaconda3\\lib\\site-packages\\theano\\tensor\\elemwise.py:826: RuntimeWarning: divide by zero encountered in log\n",
      "  variables = ufunc(*ufunc_args, **ufunc_kwargs)\n",
      "C:\\Users\\realragnvaldr\\anaconda3\\lib\\site-packages\\theano\\tensor\\elemwise.py:826: RuntimeWarning: invalid value encountered in multiply\n",
      "  variables = ufunc(*ufunc_args, **ufunc_kwargs)\n",
      "C:\\Users\\realragnvaldr\\anaconda3\\lib\\site-packages\\theano\\tensor\\elemwise.py:826: RuntimeWarning: invalid value encountered in log\n",
      "  variables = ufunc(*ufunc_args, **ufunc_kwargs)\n",
      "Multiprocess sampling (4 chains in 4 jobs)\n",
      "NUTS: [sd, mu]\n"
     ]
    },
    {
     "data": {
      "text/html": [
       "\n",
       "<style>\n",
       "    /* Turns off some styling */\n",
       "    progress {\n",
       "        /* gets rid of default border in Firefox and Opera. */\n",
       "        border: none;\n",
       "        /* Needs to be in here for Safari polyfill so background images work as expected. */\n",
       "        background-size: auto;\n",
       "    }\n",
       "    progress:not([value]), progress:not([value])::-webkit-progress-bar {\n",
       "        background: repeating-linear-gradient(45deg, #7e7e7e, #7e7e7e 10px, #5c5c5c 10px, #5c5c5c 20px);\n",
       "    }\n",
       "    .progress-bar-interrupted, .progress-bar-interrupted::-webkit-progress-bar {\n",
       "        background: #F44336;\n",
       "    }\n",
       "</style>\n"
      ],
      "text/plain": [
       "<IPython.core.display.HTML object>"
      ]
     },
     "metadata": {},
     "output_type": "display_data"
    },
    {
     "data": {
      "text/html": [
       "\n",
       "    <div>\n",
       "      <progress value='8439' class='' max='16000' style='width:300px; height:20px; vertical-align: middle;'></progress>\n",
       "      52.74% [8439/16000 00:26&lt;00:24 Sampling 4 chains, 0 divergences]\n",
       "    </div>\n",
       "    "
      ],
      "text/plain": [
       "<IPython.core.display.HTML object>"
      ]
     },
     "metadata": {},
     "output_type": "display_data"
    }
   ],
   "source": [
    "import numpy as np\n",
    "import scipy.stats as stats\n",
    "import matplotlib.pyplot as plt\n",
    "import pymc3 as pm\n",
    "\n",
    "# Function to calculate Bayes Factor\n",
    "def bayesian_one_sample_ttest(sample, test_value=0):\n",
    "    with pm.Model() as model:\n",
    "        mu = pm.Normal(\"mu\", mu=0, sd=10)\n",
    "        sd = pm.HalfNormal(\"sd\", sd=10)\n",
    "        observed = pm.Normal(\"observed\", mu=mu, sd=sd, observed=sample)\n",
    "        trace = pm.sample(2000, tune=2000)\n",
    "\n",
    "    bf = np.exp(pm.loo(trace, pointwise=True).loo)\n",
    "    \n",
    "    return bf\n",
    "\n",
    "# Function to simulate single experiment\n",
    "def simulate_single_experiment(mu=-0.1, sd=1, n=30):\n",
    "    sample = np.random.normal(mu, sd, n)\n",
    "    bf = bayesian_one_sample_ttest(sample)\n",
    "    return bf\n",
    "\n",
    "# Function to run full simulation\n",
    "def run_full_simulation():\n",
    "    sd_vec = np.logspace(0.0001, 0.1, 100)\n",
    "    mean_bf = []\n",
    "    std_bf = []\n",
    "    for sd in sd_vec:\n",
    "        bf_vals = [simulate_single_experiment(sd=sd, n=28) for _ in range(100)]\n",
    "        print(f\"sd={sd:.5f}, BF = {bf_vals})\n",
    "        mean_bf.append(np.mean(bf_vals))\n",
    "        std_bf.append(np.std(bf_vals))\n",
    "    return sd_vec, mean_bf, std_bf\n",
    "\n",
    "# Run the full simulation\n",
    "sd_vec, mean_bf, std_bf = run_full_simulation()\n",
    "\n",
    "# Plot mean and std of BF as a function of sd_vec\n",
    "plt.figure(figsize=(10, 5))\n",
    "plt.loglog(sd_vec, mean_bf, label='Mean BF')\n",
    "plt.fill_between(sd_vec, np.array(mean_bf)-np.array(std_bf), np.array(mean_bf)+np.array(std_bf), color='b', alpha=0.2)\n",
    "plt.xlabel('sd')\n",
    "plt.ylabel('BF')\n",
    "plt.legend()\n",
    "plt.title('Mean and Std of BF as a Function of sd')\n",
    "plt.grid(True)\n",
    "plt.show()"
   ]
  },
  {
   "cell_type": "code",
   "execution_count": null,
   "id": "50cbdcc6-d1d5-4c2e-b5c1-ae880f9e64e6",
   "metadata": {},
   "outputs": [],
   "source": []
  }
 ],
 "metadata": {
  "kernelspec": {
   "display_name": "Python 3 (ipykernel)",
   "language": "python",
   "name": "python3"
  },
  "language_info": {
   "codemirror_mode": {
    "name": "ipython",
    "version": 3
   },
   "file_extension": ".py",
   "mimetype": "text/x-python",
   "name": "python",
   "nbconvert_exporter": "python",
   "pygments_lexer": "ipython3",
   "version": "3.9.13"
  }
 },
 "nbformat": 4,
 "nbformat_minor": 5
}
