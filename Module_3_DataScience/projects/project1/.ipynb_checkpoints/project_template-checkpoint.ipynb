{
 "cells": [
  {
   "cell_type": "markdown",
   "id": "ccaa9975-ec07-4cae-9a5b-6d05a52b25ea",
   "metadata": {
    "tags": []
   },
   "source": [
    "# Project 1: Facebook dataset (political ads)\n",
    "\n",
    "**Team members: MD Abdullah & Ronald**<br>\n",
    "\n",
    "### About dataset\n",
    "This database, updated daily, contains ads that ran on Facebook and were submitted by thousands of ProPublica users from around the world. We asked our readers to install browser extensions that automatically collected advertisements on their Facebook pages and sent them to our servers. We then used a machine learning classifier to identify which ads were likely political and included them in this dataset."
   ]
  },
  {
   "cell_type": "code",
   "execution_count": 2,
   "id": "24751a3a-72fa-4223-a72f-36a7b0a81868",
   "metadata": {},
   "outputs": [],
   "source": [
    "# reference to the data\n",
    "data_file = './data/fbpac-ads-en-US.csv'"
   ]
  },
  {
   "cell_type": "markdown",
   "id": "4e57dafd-ca16-4685-948a-1754eaebfccb",
   "metadata": {},
   "source": [
    "## Data loading"
   ]
  },
  {
   "cell_type": "code",
   "execution_count": 3,
   "id": "d47d441f-f723-4416-b54b-766b7ad5ca0e",
   "metadata": {},
   "outputs": [
    {
     "name": "stdout",
     "output_type": "stream",
     "text": [
      "loading data from pickle file...\n",
      "  -> no pickle file found\n",
      "loading data from csv file instead (can take a while)...\n",
      "  -> data loaded (took 33.4 seconds)\n",
      "  -> resaving it as .pkl file (for faster loading in the future)\n",
      "  -> saving a preview of the data as ./data/fbpac-ads-en-US_preview.xlsx\n"
     ]
    }
   ],
   "source": [
    "# imports\n",
    "import os\n",
    "import pandas as pd\n",
    "import time\n",
    "\n",
    "# try load data from pickle file; if it does not exist, try load from .csv file; if that also fails, show an error\n",
    "loading_start_time = time.time() \n",
    "try:\n",
    "    # load pickle file\n",
    "    print(f\"loading data from pickle file...\")\n",
    "    df = pd.read_pickle(data_file.replace('.csv','.pkl'))\n",
    "    print(f\"data loaded (took {time.time() - loading_start_time:.1f} seconds)\")\n",
    "except FileNotFoundError:\n",
    "    try:\n",
    "        print(\"  -> no pickle file found\")\n",
    "        print(\"loading data from csv file instead (can take a while)...\")\n",
    "        df = pd.read_csv(data_file)\n",
    "        print(f\"  -> data loaded (took {time.time() - loading_start_time:.1f} seconds)\")\n",
    "        # resave as .pkl file - this loads around 7 times faster on my machine\n",
    "        print(f\"  -> resaving it as .pkl file (for faster loading in the future)\")\n",
    "        df.to_pickle(data_file.replace('.csv','.pkl'))\n",
    "        # save a preview of the data in an excel file, with just 100 rows \n",
    "        print(f\"  -> saving a preview of the data as {data_file.replace('.csv','_preview.xlsx')}\")\n",
    "        df.head(100).to_excel(data_file.replace('.csv','_preview.xlsx'), index=False)\n",
    "    except FileNotFoundError:\n",
    "        print(f\"\\nERROR: data '{data_file}' does not exist.\\nCheck if the file exists and if Jupyter is in the correct working directory\")"
   ]
  },
  {
   "cell_type": "markdown",
   "id": "3151efee-73d2-4261-8e74-21bd562f8201",
   "metadata": {},
   "source": [
    "## Descriptive statistics\n",
    "* Building Summary \n",
    "* Calculate Central/Dispersion measures \n",
    "* Get the distribution of the data (each column)\n",
    "* Analyze relationships between features"
   ]
  },
  {
   "cell_type": "code",
   "execution_count": 4,
   "id": "97039b87-eda1-40b9-9c60-984688c33502",
   "metadata": {},
   "outputs": [],
   "source": [
    "# Insert code for descriptive stats here"
   ]
  },
  {
   "cell_type": "markdown",
   "id": "d0c25d9b-e4d2-4f01-aa77-3569683cc85b",
   "metadata": {},
   "source": [
    "## Exploratory Data Analysis (EDA):\n",
    "* Identify the variables and their types \n",
    "* Clean the data (address errors, duplicates, missing values, outliers)\n",
    "* Transformation (standardization, normalization, encoding categorical to numerical)\n",
    "* Data Visualization (use the suitable visualization that you need)"
   ]
  },
  {
   "cell_type": "code",
   "execution_count": 5,
   "id": "5d3c4733-b4b5-4e35-9f48-75fd10e43e19",
   "metadata": {},
   "outputs": [],
   "source": [
    "# Insert code block for exploratory data analysis (EDA)"
   ]
  },
  {
   "cell_type": "markdown",
   "id": "f5ec789c-7d74-4c42-bbb2-53adf1c4791c",
   "metadata": {},
   "source": [
    "## Define and answer your research questions/objectives\n",
    "* State the research question(s)\n",
    "* Perform analyses to answer the research question(s), for instance by performing hypothesis testing\n",
    "* Interpret the results in the context of your research question or objective. Draw conclusions and make recommendations based on your analysis.\n",
    "* Communicate your results: Present your insights and conclusions in a clear and concise manner, using visualizations and descriptive statistics. Tailor your communication to your audience, whether it be technical or non-technical."
   ]
  },
  {
   "cell_type": "code",
   "execution_count": 3,
   "id": "cf78a5f9-eaba-4d3a-b6c0-5a6b20560c2f",
   "metadata": {},
   "outputs": [],
   "source": [
    "# Insert code block for answering the research questions / objectives"
   ]
  }
 ],
 "metadata": {
  "kernelspec": {
   "display_name": "Python 3 (ipykernel)",
   "language": "python",
   "name": "python3"
  },
  "language_info": {
   "codemirror_mode": {
    "name": "ipython",
    "version": 3
   },
   "file_extension": ".py",
   "mimetype": "text/x-python",
   "name": "python",
   "nbconvert_exporter": "python",
   "pygments_lexer": "ipython3",
   "version": "3.9.13"
  }
 },
 "nbformat": 4,
 "nbformat_minor": 5
}
