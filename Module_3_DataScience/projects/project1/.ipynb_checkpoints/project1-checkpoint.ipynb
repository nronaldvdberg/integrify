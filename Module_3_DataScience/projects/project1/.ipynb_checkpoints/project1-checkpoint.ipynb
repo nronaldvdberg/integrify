{
 "cells": [
  {
   "cell_type": "markdown",
   "id": "ccaa9975-ec07-4cae-9a5b-6d05a52b25ea",
   "metadata": {
    "tags": []
   },
   "source": [
    "# Project 1: Facebook dataset (political ads)\n",
    "\n",
    "**Team members: MD Abdullah & Ronald**<br>\n",
    "\n",
    "### About dataset\n",
    "This database, updated daily, contains ads that ran on Facebook and were submitted by thousands of ProPublica users from around the world. We asked our readers to install browser extensions that automatically collected advertisements on their Facebook pages and sent them to our servers. We then used a machine learning classifier to identify which ads were likely political and included them in this dataset."
   ]
  },
  {
   "cell_type": "code",
   "execution_count": 1,
   "id": "24751a3a-72fa-4223-a72f-36a7b0a81868",
   "metadata": {},
   "outputs": [],
   "source": [
    "# reference to the data\n",
    "data_file = './data/fbpac-ads-en-US.csv'"
   ]
  },
  {
   "cell_type": "markdown",
   "id": "4e57dafd-ca16-4685-948a-1754eaebfccb",
   "metadata": {},
   "source": [
    "## Data loading"
   ]
  },
  {
   "cell_type": "code",
   "execution_count": 4,
   "id": "d47d441f-f723-4416-b54b-766b7ad5ca0e",
   "metadata": {},
   "outputs": [
    {
     "name": "stdout",
     "output_type": "stream",
     "text": [
      "loading data from pickle file...\n",
      "  -> no pickle file found\n",
      "loading data from csv file instead (can take a while)...\n",
      "\n",
      "ERROR: data './daata/fbpac-ads-en-US.csv' does not exist.\n",
      "Check if the file exists and if Jupyter is in the correct working directory\n"
     ]
    }
   ],
   "source": [
    "# imports\n",
    "import os\n",
    "import pandas as pd\n",
    "import time\n",
    "\n",
    "# try load data from pickle file; if it does not exist, try load from .csv file; if that also fails, show an error\n",
    "loading_start_time = time.time() \n",
    "try:\n",
    "    # load pickle file\n",
    "    print(f\"loading data from pickle file...\")\n",
    "    df = pd.read_pickle(data_file.replace('.csv','.pkl'))\n",
    "    print(f\"data loaded (took {time.time() - loading_start_time:.1f} seconds)\")\n",
    "except FileNotFoundError:\n",
    "    try:\n",
    "        print(\"  -> no pickle file found\")\n",
    "        print(\"loading data from csv file instead (can take a while)...\")\n",
    "        df = pd.read_csv(data_file)\n",
    "        print(f\"  -> data loaded (took {time.time() - loading_start_time:.1f} seconds)\")\n",
    "        # resave as .pkl file - this loads around 7 times faster on my machine\n",
    "        print(f\"  -> resaving it as .pkl file (for faster loading in the future)\")\n",
    "        df.to_pickle(data_file.replace('.csv','.pkl'))\n",
    "        # save a preview of the data in an excel file, with just 100 rows \n",
    "        print(f\"  -> saving a preview of the data as {data_file.replace('.csv','_preview.xlsx')}\")\n",
    "        df.head(100).to_excel(data_file.replace('.csv','_preview.xlsx'), index=False)\n",
    "    except FileNotFoundError:\n",
    "        print(f\"\\nERROR: data '{data_file}' does not exist.\\nCheck if the file exists and if Jupyter is in the correct working directory\")"
   ]
  },
  {
   "cell_type": "markdown",
   "id": "3151efee-73d2-4261-8e74-21bd562f8201",
   "metadata": {},
   "source": [
    "## Descriptive statistics\n",
    "* Building Summary \n",
    "* Calculate Central/Dispersion measures \n",
    "* Get the distribution of the data (each column)\n",
    "* Analyze relationships between features"
   ]
  },
  {
   "cell_type": "code",
   "execution_count": 11,
   "id": "97039b87-eda1-40b9-9c60-984688c33502",
   "metadata": {},
   "outputs": [
    {
     "name": "stdout",
     "output_type": "stream",
     "text": [
      "\n",
      "### Data Summary ###\n",
      "<class 'pandas.core.frame.DataFrame'>\n",
      "RangeIndex: 162324 entries, 0 to 162323\n",
      "Data columns (total 24 columns):\n",
      " #   Column                          Non-Null Count   Dtype  \n",
      "---  ------                          --------------   -----  \n",
      " 0   id                              162324 non-null  object \n",
      " 1   html                            162324 non-null  object \n",
      " 2   political                       162324 non-null  int64  \n",
      " 3   not_political                   162324 non-null  int64  \n",
      " 4   title                           162306 non-null  object \n",
      " 5   message                         162324 non-null  object \n",
      " 6   thumbnail                       162324 non-null  object \n",
      " 7   created_at                      162324 non-null  object \n",
      " 8   updated_at                      162324 non-null  object \n",
      " 9   lang                            162324 non-null  object \n",
      " 10  images                          162324 non-null  object \n",
      " 11  impressions                     162324 non-null  int64  \n",
      " 12  political_probability           162324 non-null  float64\n",
      " 13  targeting                       116066 non-null  object \n",
      " 14  suppressed                      162324 non-null  object \n",
      " 15  targets                         158117 non-null  object \n",
      " 16  advertiser                      124613 non-null  object \n",
      " 17  entities                        158658 non-null  object \n",
      " 18  page                            159764 non-null  object \n",
      " 19  lower_page                      159764 non-null  object \n",
      " 20  targetings                      114062 non-null  object \n",
      " 21  paid_for_by                     112045 non-null  object \n",
      " 22  targetedness                    112747 non-null  float64\n",
      " 23  listbuilding_fundraising_proba  152394 non-null  float64\n",
      "dtypes: float64(3), int64(3), object(18)\n",
      "memory usage: 29.7+ MB\n",
      "None\n",
      "\n",
      "*** Unique Counts ***\n",
      "id                                162324\n",
      "html                              162313\n",
      "political                            165\n",
      "not_political                         70\n",
      "title                              14087\n",
      "message                            72787\n",
      "thumbnail                          28166\n",
      "created_at                        162324\n",
      "updated_at                        162321\n",
      "lang                                   1\n",
      "images                             89022\n",
      "impressions                          581\n",
      "political_probability             138951\n",
      "targeting                         115470\n",
      "suppressed                             1\n",
      "targets                            22925\n",
      "advertiser                         12068\n",
      "entities                           60014\n",
      "page                               12617\n",
      "lower_page                         12609\n",
      "targetings                        113864\n",
      "paid_for_by                         8786\n",
      "targetedness                          13\n",
      "listbuilding_fundraising_proba    111229\n",
      "dtype: int64\n",
      "\n",
      "### Central Tendency Measures ###\n",
      "                                   count  mean   std  min  25%  50%  75%  \\\n",
      "political                      162324.00  4.18 10.57 0.00 0.00 1.00 4.00   \n",
      "not_political                  162324.00  0.79  2.77 0.00 0.00 0.00 1.00   \n",
      "impressions                    162324.00  4.61 40.69 0.00 1.00 1.00 2.00   \n",
      "political_probability          162324.00  0.93  0.17 0.00 0.95 1.00 1.00   \n",
      "targetedness                   112747.00  3.94  1.76 0.00 3.00 4.00 4.00   \n",
      "listbuilding_fundraising_proba 152394.00  0.55  0.33 0.00 0.27 0.42 1.00   \n",
      "\n",
      "                                   max  \n",
      "political                       488.00  \n",
      "not_political                   330.00  \n",
      "impressions                    3575.00  \n",
      "political_probability             1.00  \n",
      "targetedness                     12.00  \n",
      "listbuilding_fundraising_proba    1.23  \n"
     ]
    }
   ],
   "source": [
    "# Insert code for descriptive stats here\n",
    "\n",
    "# Show a summary of the data frame\n",
    "print(\"\\n### Data Summary ###\")\n",
    "print(df.info())\n",
    "\n",
    "# Unique counts for each column\n",
    "print(\"\\n*** Unique Counts ***\")\n",
    "print(df.nunique())\n",
    "\n",
    "# Show central tendency measures\n",
    "print(\"\\n### Central Tendency Measures ###\")\n",
    "pd.options.display.float_format = \"{:.2f}\".format\n",
    "print(df.describe().transpose())"
   ]
  },
  {
   "cell_type": "markdown",
   "id": "d0c25d9b-e4d2-4f01-aa77-3569683cc85b",
   "metadata": {},
   "source": [
    "## Exploratory Data Analysis (EDA):\n",
    "* Identify the variables and their types \n",
    "* Clean the data (address errors, duplicates, missing values, outliers)\n",
    "* Transformation (standardization, normalization, encoding categorical to numerical)\n",
    "* Data Visualization (use the suitable visualization that you need)"
   ]
  },
  {
   "cell_type": "code",
   "execution_count": null,
   "id": "5d3c4733-b4b5-4e35-9f48-75fd10e43e19",
   "metadata": {},
   "outputs": [],
   "source": [
    "# Insert code block for exploratory data analysis (EDA)"
   ]
  },
  {
   "cell_type": "markdown",
   "id": "f5ec789c-7d74-4c42-bbb2-53adf1c4791c",
   "metadata": {},
   "source": [
    "## Define your research questions/objectives\n",
    "* Perform Hypothesis testing\n",
    "* Interpret the results findings in the context of your research question or objective. Draw conclusions and make recommendations based on your analysis.\n",
    "* Communicate your results: Present your insights and conclusions in a clear and concise manner, using visualizations and descriptive statistics. Tailor your communication to your audience, whether it be technical or non-technical."
   ]
  },
  {
   "cell_type": "code",
   "execution_count": 3,
   "id": "cf78a5f9-eaba-4d3a-b6c0-5a6b20560c2f",
   "metadata": {},
   "outputs": [],
   "source": [
    "# Insert code block for answering the research questions / objectives"
   ]
  }
 ],
 "metadata": {
  "kernelspec": {
   "display_name": "Python 3 (ipykernel)",
   "language": "python",
   "name": "python3"
  },
  "language_info": {
   "codemirror_mode": {
    "name": "ipython",
    "version": 3
   },
   "file_extension": ".py",
   "mimetype": "text/x-python",
   "name": "python",
   "nbconvert_exporter": "python",
   "pygments_lexer": "ipython3",
   "version": "3.9.13"
  }
 },
 "nbformat": 4,
 "nbformat_minor": 5
}
