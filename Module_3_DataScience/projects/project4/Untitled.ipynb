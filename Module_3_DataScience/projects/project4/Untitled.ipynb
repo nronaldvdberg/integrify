{
 "cells": [
  {
   "cell_type": "code",
   "execution_count": null,
   "id": "5f99b46a-9958-4731-b973-da47681ac928",
   "metadata": {},
   "outputs": [],
   "source": [
    "from ronaldlib.aida import AIDataAnalyzer\n",
    "\n",
    "# Instantiate the AIDataAnalyzer class\n",
    "analyzer = AIDataAnalyzer()\n",
    "\n",
    "# Set the OpenAI API key\n",
    "openai_key = \"your_openai_api_key\"\n",
    "analyzer.set_openai_api_key(openai_key)"
   ]
  }
 ],
 "metadata": {
  "kernelspec": {
   "display_name": "Python 3 (ipykernel)",
   "language": "python",
   "name": "python3"
  },
  "language_info": {
   "codemirror_mode": {
    "name": "ipython",
    "version": 3
   },
   "file_extension": ".py",
   "mimetype": "text/x-python",
   "name": "python",
   "nbconvert_exporter": "python",
   "pygments_lexer": "ipython3",
   "version": "3.9.13"
  }
 },
 "nbformat": 4,
 "nbformat_minor": 5
}
