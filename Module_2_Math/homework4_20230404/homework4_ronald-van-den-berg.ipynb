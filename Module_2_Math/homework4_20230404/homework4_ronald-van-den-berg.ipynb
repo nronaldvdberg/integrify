{
 "cells": [
  {
   "cell_type": "markdown",
   "id": "a4ee178e-d0c8-4c95-80ad-007c01ebebee",
   "metadata": {
    "tags": []
   },
   "source": [
    "### Homework 4\n",
    "\n",
    "**Exercise 1**\n",
    "\n",
    "Suppose we want to test whether the mean weight of apples in a grocery store is 150 grams. \n",
    "\n",
    "We randomly sample 20 apples from the store and measure their weights, getting the following data:<br>\n",
    "Apple_weights = [145, 155, 160, 146, 142, 152, 150, 147, 148, 149, 148, 152, 153, 155, 154, 148, 151, 147, 153, 146]\n",
    "\n",
    "* What test should we use and why?<br>\n",
    "  * <font color='blue'>A **t-test** would be the default choice here, since those are meant for testing hypotheses about population means.</font>\n",
    "  * <font color='blue'>We will go with a **one-sample** test, because we compare a single sample against a test value (rather than against another sample).</font>\n",
    "  * <font color='blue'>We will go with a **two-tailed** test, because the alternative hypothesis is that the mean is unequal to the test value (rather than smaller or larger than the test value)</font>  \n",
    "  * <font color='blue'>If there is no strong evidence against the hypothesis that the sample comes from a normally distributed population, we will go with the **Student t-test**, as that is the most powerful test when dealing with normally distributed data (it is strong because it exploits that information). Otherwise we will go with the **Wilcoxon signed-rank t-test**.</font>\n",
    "* State the null and alternative hypotheses.<br>\n",
    "<font color='blue'>$H_0: \\mu_{pop} = 150$</font><br>\n",
    "<font color='blue'>$H_1: \\mu_{pop} \\neq 150$</font><br>\n",
    "* Choose a significance level (α) <br>\n",
    "<font color='blue'><b>Short answer</b><br>\n",
    "Let's choose $\\alpha = .05$, because that is what the whole world uses and what Iljas probably wants us to do :-P</font><br><br>\n",
    "<font color='blue'><b>Long answer</b><br>\n",
    "<font color='blue'>While most scientists use .05 is a rejection level, this is not a golden rule and it lacks theoretical justification. Even Ronald Fisher himself (the father of the $p$-value and the first person to propose $\\alpha = .05$ as a suitable rejection level) thought it would be absurd to use the same rejection level in every situation:<br><br>\n",
    "<i>\"A man who ‘rejects’ a hypothesis provisionally, as a matter of habitual practice, when the significance is at the 1% level or higher, will certainly be mistaken in not more than 1% of such decisions. For when the hypothesis is correct he will be mistaken in just 1% of these cases, and when it is incorrect he will never be mistaken in rejection. [...] However, the calculation is absurdly academic, **for in fact no scientific worker has a fixed level of significance at which from year to year, and in all circumstances, he rejects hypotheses; he rather gives his mind to each particular case in the light of his evidence and his ideas.** It should not be forgotten that the cases chosen for applying a test are manifestly a highly selected set, and that the conditions of selection cannot be specified even for a single worker; nor that in the argument used it would clearly be illegitimate for one to choose the actual level of significance indicated by a particular trial as though it were his lifelong habit to use just this level.\"</i>\n",
    "<br>(Statistical Methods and Scientific Inference, 1956, p. 42-45)<br><br>\n",
    "In practice, what is a suitable rejection level depends on many factors, including the cost of making certain types of decision errors. For example, if it is very costly to wrongfully reject a true H0, then we may want to be conservative and choose a very low alpha level. If it is very costly to fail to reject a false H0, then we may want to be liberal and use a relatively high alpha level.\n",
    "</font>\n",
    "\n",
    "* Determine the degrees of freedom (df) of the sample. <br>\n",
    "<font color='blue'>For a one-sample t-test, the number of degrees of freedom equals the sample size minus one. Hence, in this case: df = 19</font>\n",
    "* Determine the critical value of t based on the significance level and degrees of freedom.<br> \n",
    "<font color='blue'>For a two-tailed test with α = 0.05 and df = 19, the critical value is 2.093:</font>\n",
    "```python\n",
    "import scipy.stats as stats\n",
    "t_crit = stats.t.ppf(.975, 19)   # this gives 2.093\n",
    "```\n",
    "* Compare and interpret the results of the test to the critical value<br>\n",
    "<font color='blue'>Using the code below, we find $t = 0.052$. Since $|t| < t_{\\mathrm{crit}}$, we conclude that the current data give us no reason to reject H0.</font><br>"
   ]
  },
  {
   "cell_type": "code",
   "execution_count": 1,
   "id": "a6fd2767-49a9-46cc-9e7f-5b8d6313884e",
   "metadata": {
    "tags": []
   },
   "outputs": [
    {
     "name": "stdout",
     "output_type": "stream",
     "text": [
      "t=0.052\n",
      "p=0.959\n"
     ]
    }
   ],
   "source": [
    "import scipy.stats as stats\n",
    "import numpy as np\n",
    "\n",
    "apple_weights = np.array([145, 155, 160, 146, 142, 152, 150, 147, 148, 149, 148, 152, 153, 155, 154, 148, 151, 147, 153, 146])\n",
    "test_value = 150\n",
    "\n",
    "t = (apple_weights.mean() - test_value) / (apple_weights.std(ddof = 1) / np.sqrt(apple_weights.size))\n",
    "print(f't={t:.3f}')\n",
    "print(f'p={2 - 2*stats.t.cdf(t,apple_weights.size-1):.3f}')"
   ]
  },
  {
   "cell_type": "markdown",
   "id": "7ff1712f-47a0-4713-9875-1784b77885b0",
   "metadata": {},
   "source": [
    "**Exercise 2**\n",
    "\n",
    "Suppose we want to test whether the mean height of all men in a population is 180 cm assuming that the population standard deviation = 2. We randomly sample 50 men from the population and measure their heights, getting the following data:\n",
    "\n",
    "Men_height = [177, 180, 182, 179, 178, 181, 176, 183, 179, 180, 178, 181, 177, 178, 180, 179, 182, 180, 183, 181, 179, 177, 180, 181, 178, 180, 182, 179, 177, 182, 178, 181, 183, 179, 180, 181, 183, 178, 177, 181, 179, 182, 180, 181, 178, 180, 179, 181, 183, 179]\n",
    "\n",
    "* What test should we use and why?<br>\n",
    "  * <font color='blue'>We have a relatively large sample (>30 measurements). Furthermore, assuming that the population is normally distributed and that we know the standard deviation, it would make sense to use a **Z-test** here.</font>\n",
    "  * <font color='blue'>We will go with a **one-sample** test, because we compare a single sample against a test value (rather than against another sample).</font>\n",
    "  * <font color='blue'>We will go with a **two-tailed** test, because the alternative hypothesis is that the mean is unequal to the test value (rather than smaller or larger than the test value)</font>\n",
    "\n",
    "* State the null and alternative hypotheses<br>\n",
    "<font color='blue'>$H_0: \\mu_{pop} = 150$</font><br>\n",
    "<font color='blue'>$H_1: \\mu_{pop} \\neq 150$</font><br>\n",
    "\n",
    "* Choose a significance level (α).<br>\n",
    "<font color='blue'>See my answer in **Exercise 1**</font>\n",
    "\n",
    "* Determine the degrees of freedom (df) of the sample.<br>\n",
    "<font color='blue'><b>Short answer</b><br>There are no degrees of freedom in a Z-test, because we assume that the population standard deviation is known.<br><br>\n",
    "<b>Answer with explanations</b><br>In a t-test we estimate the population standard deviation from the sample.That estimate is subject to sampling variability, which we need to take into account when performing inference about the population mean. That is where the degrees of freedom come into play (the larger df, the lower the sampling variability, and the stronger our inference). In a Z-test, there is no sampling variability to be taken into account when performing inference about the population mean. Hence, there are no degrees of freedom (it is essentially infinite).</font>\n",
    "\n",
    "* Determine the critical value.<br>\n",
    "<font color='blue'>For a two-tailed z-test, the critical value is 1.96. This means that we reject H0 if we find a sample mean that deviates by more than 1.96 standard deviations from the hypothesized population mean. Note that <i>standard deviation</i> here refers to the <i>distribution of the sample mean</i>, not the sample itself</font>\n",
    "```python\n",
    "import scipy.stats as stats\n",
    "z_crit = stats.norm.ppf(.975)   # this gives 1.96\n",
    "```\n",
    "* Compare and interpret the results of the test to the critical value.<br>\n",
    "<font color='blue'><b>Short answer</b><br>The z-value equals $\\frac{179.48-180}{2/\\sqrt{50}} = -0.57$. The absolute value is smaller than the critical value so we choose to not reject H0.<br><br>\n",
    "<font color='blue'><b>Answer with explanations</b><br>What we wish to answer here is the following question:</font><br><br>\n",
    "<font color='blue'><i>Does the mean of this sample deviate by more than 1.96 standard deviations from the hypothesized population mean?</i><br><br>To answer this, we need to know the distribution of the sample mean. It can be shown that the sampling mean follows a normal distribution itself (CLT). Assuming that the standard deviation of the population is $\\sigma=2$, the standard deviation of that distribution is $\\hat{\\sigma}_{pop} = \\frac{\\sigma}{\\sqrt{n}}$. In the present case, we find $\\hat{\\sigma} = \\frac{2}{\\sqrt{50}} = 0.283$. The z-value thus equals $\\frac{\\bar{x} - \\mu}{\\sigma} = \\frac{179.84 - 180.00}{0.283} = -0.57$. This is well within the critical values of -1.96 and 1.96, which means that the current data do not give us a reason to reject the hypothesis that they come from a population with a mean equal to 180 cm.</font>\n"
   ]
  },
  {
   "cell_type": "markdown",
   "id": "269a12a9-6349-4655-a7d6-c282bd9a3035",
   "metadata": {},
   "source": [
    "**Exercise 3**\n",
    "\n",
    "Suppose we want to test whether the mean weight of a population of cats is different from 4 kg. We randomly sample 50 cats from the population and measure their weights, getting the following data:\n",
    "\n",
    "Cats_weights = [3.9, 4.2, 4.5, 4.1, 4.3, 3.8, 4.6, 4.2, 3.7, 4.3, 3.9, 4.0, 4.1, 4.5, 4.2, 3.8, 3.9, 4.3, 4.1, 4.0, 4.4, 4.2, 4.1, 4.6, 4.4, 4.2, 4.1, 4.3, 4.0, 4.4, 4.3, 3.8, 4.1, 4.5, 4.2, 4.3, 4.0, 4.1, 4.2, 3.9, 4.3, 3.7, 4.1, 4.5, 4.2, 4.0, 4.2, 4.4, 4.1, 4.5]\n",
    "\n",
    "* Perform one sample two tailed Z-Test to determine whether the mean weight of the sampled cats is significantly different from 4 kg.<br>\n",
    "<font color='blue'>This is not possible, because the standard deviation of the population is not given.</font>\n",
    "* State the null and alternative hypotheses.<br>\n",
    "<font color='blue'>H0: $\\mu_{pop} = 4$</font><br>\n",
    "<font color='blue'>H1: $\\mu_{pop} \\neq 4$</font>\n",
    "* Choose a significance level, $\\alpha$<br>\n",
    "<font color='blue'>See answer to this question in Exercise 1</font><br>\n",
    "* Assuming that the standard deviation is equal to the sample mean, calculate the z-score using the formula $Z = \\frac{\\bar{x} - \\mu_0}{\\sigma / \\sqrt{n}}$<br>\n",
    "<font color='blue'>I assume that what was meant here is:<br><br><i>Assuming that the standard deviation **of the population** is equal to the sample **standard deviation**, calculate the z-score using the formula $Z = \\frac{\\bar{x} - \\mu_0}{\\sigma / \\sqrt{n}}$</i>.<br><br>\n",
    "The answer then is $Z = \\frac{4.17 - 4}{0.227 / \\sqrt{50}} = 5.23$</font>\n",
    "* Look up the critical z-value at the chosen significance level (α) using a z-table.<br>\n",
    "<font color='blue'>If we choose $\\alpha=.05$, then the critical value is 1.96</font><br>    \n",
    "* Compare the calculated z-score to the critical z-values. If the calculated z-score falls outside the range between the critical z-values, we reject the null hypothesis in favor of the alternative hypothesis.<br>\n",
    "<font color='blue'>The z value is larger than the critical value, which means that we have sufficient evidence to reject H0 at the chosen $\\alpha$ level.</font><br>    \n",
    "\n"
   ]
  },
  {
   "cell_type": "code",
   "execution_count": 2,
   "id": "3c6143fb-cfa2-41c3-8940-9615149874a9",
   "metadata": {
    "tags": []
   },
   "outputs": [
    {
     "name": "stdout",
     "output_type": "stream",
     "text": [
      "z=5.234\n",
      "p=0.000\n"
     ]
    }
   ],
   "source": [
    "y=np.array([[3.9, 4.2, 4.5, 4.1, 4.3, 3.8, 4.6, 4.2, 3.7, 4.3, 3.9, 4.0, 4.1, 4.5, 4.2, 3.8, 3.9, 4.3, 4.1, 4.0, 4.4, 4.2, 4.1, 4.6, 4.4, 4.2, 4.1, 4.3, 4.0, 4.4, 4.3, 3.8, 4.1, 4.5, 4.2, 4.3, 4.0, 4.1, 4.2, 3.9, 4.3, 3.7, 4.1, 4.5, 4.2, 4.0, 4.2, 4.4, 4.1, 4.5]])\n",
    "z = (y.mean() - 4) / (y.std(ddof=1) / np.sqrt(y.size))\n",
    "p = 1 - stats.norm.cdf(z,0,1)\n",
    "print(f'z={z:.3f}')\n",
    "print(f'p={p:.3f}')\n"
   ]
  },
  {
   "cell_type": "markdown",
   "id": "a3fee18e-3945-484c-8256-bac33ab8bf1b",
   "metadata": {},
   "source": [
    "# Side note to Iljas in case he reads this\n",
    "\n",
    "In your lectures you talked a few times about 'accepting the null hypothesis' when $p > .05$. \n",
    "\n",
    "However, while tempting, it is incorrect to interpret a high p value as evidence in favor of H0. \n",
    "\n",
    "The p value can only be used to quantify evidence *against* H0, never to argue *in favor* of it. \n",
    "\n",
    "The reason is that a high p value can occur for multiple reasons:\n",
    "1. H0 is true\n",
    "2. H0 is false, but you have too little data to detect this\n",
    "\n",
    "We cannot distinguish these cases. It is intuitive to think that we could compute a proper sample size to exclude the second option (so that a high p means evidence in support of H0 when using that sample size), but for that we would need to know the 'effect size' in case H0 is false - and we don't know that.\n",
    "\n",
    "To give a more concrete demonstration of why a high p value is not evidence in support of H0, consider the following situation:\n",
    "* ```x = [-30, 30]```\n",
    "* H0: $\\mu = 100$\n",
    "\n",
    "If $p > .05$ would mean \"evidence in favor of H0\", then we should surely not find a high p value here, right?\n",
    "\n",
    "The p value turns out to be 0.19 for this example. Not because there is strong evidence that H0 is true, but purely because we have too little data to disprove it."
   ]
  },
  {
   "cell_type": "code",
   "execution_count": 3,
   "id": "f291cc63-c246-4c2f-a81b-347093f53fd1",
   "metadata": {
    "tags": []
   },
   "outputs": [
    {
     "data": {
      "text/plain": [
       "0.19"
      ]
     },
     "execution_count": 3,
     "metadata": {},
     "output_type": "execute_result"
    }
   ],
   "source": [
    "data = [-30, 30]\n",
    "test_value = 100\n",
    "\n",
    "_, pvalue = stats.ttest_1samp(data, test_value)\n",
    "\n",
    "pvalue.round(2)"
   ]
  },
  {
   "cell_type": "code",
   "execution_count": 9,
   "id": "c6e5cfdb-efd2-4711-9cac-46de316a08a6",
   "metadata": {},
   "outputs": [
    {
     "data": {
      "text/plain": [
       "0.24"
      ]
     },
     "execution_count": 9,
     "metadata": {},
     "output_type": "execute_result"
    }
   ],
   "source": [
    "salary_women = [32000, 17000]  # 32k, 17k\n",
    "salary_men = [42000, 91000] # 42k, 90k\n",
    "\n",
    "_, pvalue = stats.ttest_ind(salary_women, salary_men)\n",
    "\n",
    "pvalue.round(2)"
   ]
  },
  {
   "cell_type": "code",
   "execution_count": null,
   "id": "ec8cdc3a-a25c-48d4-bee6-a187c903a4b4",
   "metadata": {},
   "outputs": [],
   "source": []
  }
 ],
 "metadata": {
  "kernelspec": {
   "display_name": "Python 3 (ipykernel)",
   "language": "python",
   "name": "python3"
  },
  "language_info": {
   "codemirror_mode": {
    "name": "ipython",
    "version": 3
   },
   "file_extension": ".py",
   "mimetype": "text/x-python",
   "name": "python",
   "nbconvert_exporter": "python",
   "pygments_lexer": "ipython3",
   "version": "3.10.8"
  }
 },
 "nbformat": 4,
 "nbformat_minor": 5
}
