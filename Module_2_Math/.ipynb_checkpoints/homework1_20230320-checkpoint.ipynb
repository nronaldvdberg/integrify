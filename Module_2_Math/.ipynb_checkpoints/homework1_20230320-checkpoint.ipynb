{
 "cells": [
  {
   "cell_type": "markdown",
   "id": "a4ee178e-d0c8-4c95-80ad-007c01ebebee",
   "metadata": {},
   "source": [
    "### Exercise 1: Flow sensors\n",
    "\n",
    "The data file has three recorded values of water flow recorded using three sensors S1, S2, and S3.\n",
    "\n",
    "- Compute the central tendency measures\n",
    "- Compute the spread measures\n",
    "- What can you say about S1, S2, S3 in terms of Means, Variance, and Standard deviation?\n",
    "- Which one of the sensors is different from the others?"
   ]
  },
  {
   "cell_type": "code",
   "execution_count": null,
   "id": "0792de6f-7dbb-4036-87a4-65d5313e452c",
   "metadata": {},
   "outputs": [],
   "source": [
    "import numpy as np\n",
    "import pandas as pd\n",
    "import matplotlib.pyplot as plt\n",
    "\n",
    "# read the data\n",
    "df = pd.read_csv('group3.csv', sep = ';')\n",
    "print('Number of rows    = ' + str(df.shape[0]))\n",
    "print('Number of columns = ' + str(df.shape[1]))\n",
    "\n",
    "# compute central tendency and spread measures\n",
    "for col_name, col_data in df.items():\n",
    "    print(f'\\n** Sensor {col_name} **')\n",
    "    print(f'min, max     = {col_data.min():.1f}, {col_data.max():.1f}')\n",
    "    print(f'mean, median = {col_data.mean():.1f}, {col_data.median():.1f}')\n",
    "    print(f'std, var     = {col_data.std():.1f}, {col_data.var():.1f}')\n",
    "    print(f'skew         = {col_data.skew():.1f}')\n",
    "    \n",
    "# create a figure with two subplots\n",
    "fig, axs = plt.subplots(nrows=1, ncols=2, figsize=(10, 4))\n",
    "\n",
    "# boxplot\n",
    "df.plot(kind='box', ax=axs[0])\n",
    "\n",
    "# histograms\n",
    "for col_name in df.columns:\n",
    "    axs[1].hist(df[col_name], bins=20, alpha=0.5, label=col_name)\n",
    "axs[1].legend()"
   ]
  },
  {
   "cell_type": "markdown",
   "id": "43f1beeb-0a24-42a1-a12d-eb20c783fdbf",
   "metadata": {},
   "source": [
    "**Question**<br>\n",
    "What can you say about S1, S2, S3 in terms of Means, Variance, and Standard deviation?\n",
    "\n",
    "**Answer**<br>\n",
    "Means: $S1 > S2 \\approx S3$<br>\n",
    "Variance and std: $S1 \\approx S2 < S3$\n",
    "\n",
    "**Question**<br>\n",
    "Which one of the sensors is different from the others?\n",
    "\n",
    "**Answer**<br>\n",
    "- In terms of central tendency, S1 is different from S2 and S3: it gives much higher values. One possible explanation is that the measurements of S1 are biased (e.g. due to a production error)\n",
    "- In terms of spread, S3 is different from S1 and S2: it has much higher variance in its measurements. One possible explanation is that S3 has more measurement noise. \n",
    "\n",
    "**Conclusion**<br>\n",
    "S2 seems to give the best measurements: it has lowest variance (highest precision) and it doesn't have the apparent bias of S1. \n",
    "\n",
    "(Of course, without more information on the background of this dataset, any conclusion is highly speculative)"
   ]
  },
  {
   "attachments": {
    "44c218c2-4b20-4083-a47e-8fbc34fea595.png": {
     "image/png": "[encoded data removed]"
    }
   },
   "cell_type": "markdown",
   "id": "7ce7ed31-2a40-4f64-88f5-209cdda58a7a",
   "metadata": {},
   "source": [
    "### Exercise 2: Categorical quartiles\n",
    "Is it possible to divide a categorical dataset using quartiles?\n",
    "\n",
    "**Answer**<br>\n",
    "It depends on the nature of the categorical data. In order to compute quartiles, we need to be able to sort the data. Since *nominal* ordinal data by definition has no ordering, it is not possible to compute quartiles on such data. With *ordinal* categorical data, however, it is in principle possible to compute quartiles, but issues may arise when having very few levels (many repeating values) or when a quartile falls in between two categories.<br>\n",
    "<br>\n",
    "Example: \n",
    "\n",
    "![image.png](attachment:44c218c2-4b20-4083-a47e-8fbc34fea595.png)\n",
    "\n",
    "Conclusion: it's possible, but somewhat ugly and not without issues.<br>\n",
    "\n",
    "**Question**<br>\n",
    "Suppose we have list of set of colors\n",
    "Colors = [Red, Green, Blue, Blue, Green, Red, Yellow, Orange, Purple, Blue, Green, Red, Blue, Yellow, Orange, Green, Blue, Red, Yellow, Green]\n",
    "\n",
    "How can we make Quartiles in such a case?\n",
    "\n",
    "**Answer**<br>\n",
    "There is no natural way to compute quartiles on nominal data, because they cannot be ordered."
   ]
  }
 ],
 "metadata": {
  "kernelspec": {
   "display_name": "Python 3 (ipykernel)",
   "language": "python",
   "name": "python3"
  },
  "language_info": {
   "codemirror_mode": {
    "name": "ipython",
    "version": 3
   },
   "file_extension": ".py",
   "mimetype": "text/x-python",
   "name": "python",
   "nbconvert_exporter": "python",
   "pygments_lexer": "ipython3",
   "version": "3.9.13"
  }
 },
 "nbformat": 4,
 "nbformat_minor": 5
}
