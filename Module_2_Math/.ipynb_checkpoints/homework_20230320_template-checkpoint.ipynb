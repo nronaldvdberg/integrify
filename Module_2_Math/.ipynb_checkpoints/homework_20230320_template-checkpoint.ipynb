{
 "cells": [
  {
   "cell_type": "markdown",
   "id": "a4ee178e-d0c8-4c95-80ad-007c01ebebee",
   "metadata": {},
   "source": [
    "### Exercise 1: Flow sensors\n",
    "\n",
    "The data file has three recorded values of water flow recorded using three sensors S1, S2, and S3.\n",
    "\n",
    "- Compute the central tendency measures\n",
    "- Compute the spread measures\n",
    "- What can you say about S1, S2, S3 in terms of Means, Variance, and Standard deviation?\n",
    "- Which one of the sensors is different from the others?"
   ]
  },
  {
   "cell_type": "code",
   "execution_count": 2,
   "id": "0792de6f-7dbb-4036-87a4-65d5313e452c",
   "metadata": {},
   "outputs": [],
   "source": [
    "import numpy as np\n",
    "import pandas as pd\n",
    "\n",
    "# read the data\n",
    "df = pd.read_csv('group3.csv', sep = ';')\n",
    "\n",
    "# do some stuff here that will help us answer the questions\n",
    "..."
   ]
  },
  {
   "cell_type": "markdown",
   "id": "43f1beeb-0a24-42a1-a12d-eb20c783fdbf",
   "metadata": {},
   "source": [
    "**Question**<br>\n",
    "What can you say about S1, S2, S3 in terms of Means, Variance, and Standard deviation?\n",
    "\n",
    "**Answer**<br>\n",
    "...\n",
    "\n",
    "**Question**<br>\n",
    "Which one of the sensors is different from the others?\n",
    "\n",
    "**Answer**<br>\n",
    "...\n",
    "\n",
    "**Conclusion**<br>\n",
    "..."
   ]
  },
  {
   "cell_type": "markdown",
   "id": "7ce7ed31-2a40-4f64-88f5-209cdda58a7a",
   "metadata": {},
   "source": [
    "### Exercise 2: Categorical quartiles\n",
    "Is it possible to divide a categorical dataset using quartiles?\n",
    "\n",
    "Suppose we have list of set of colors\n",
    "Colors = [Red, Green, Blue, Blue, Green, Red, Yellow, Orange, Purple, Blue, Green, Red, Blue, Yellow, Orange, Green, Blue, Red, Yellow, Green]\n",
    "\n",
    "How can we make Quartiles in such a case?\n",
    "\n",
    "**Answer**<br>\n",
    "..."
   ]
  },
  {
   "cell_type": "code",
   "execution_count": null,
   "id": "6dd6b61e-062e-494a-a48a-05e1b047be3d",
   "metadata": {},
   "outputs": [],
   "source": []
  }
 ],
 "metadata": {
  "kernelspec": {
   "display_name": "Python 3 (ipykernel)",
   "language": "python",
   "name": "python3"
  },
  "language_info": {
   "codemirror_mode": {
    "name": "ipython",
    "version": 3
   },
   "file_extension": ".py",
   "mimetype": "text/x-python",
   "name": "python",
   "nbconvert_exporter": "python",
   "pygments_lexer": "ipython3",
   "version": "3.10.8"
  }
 },
 "nbformat": 4,
 "nbformat_minor": 5
}
