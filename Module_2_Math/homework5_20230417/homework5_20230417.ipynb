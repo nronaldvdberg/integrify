{
 "cells": [
  {
   "cell_type": "markdown",
   "id": "a4ee178e-d0c8-4c95-80ad-007c01ebebee",
   "metadata": {
    "tags": []
   },
   "source": [
    "### Homework 5\n",
    "\n",
    "* Create a class and name it Z-test this class have \n",
    "* Create a class and name it T-test this class includes One-sample, two-sample, and paired t-test\n",
    "* Create a class and name it ANOVA it includes one way and two ways\n",
    "* Create a class and name it Chi-Square\n",
    "* Create a class and name it AB testing \n"
   ]
  },
  {
   "cell_type": "code",
   "execution_count": 30,
   "id": "a6fd2767-49a9-46cc-9e7f-5b8d6313884e",
   "metadata": {
    "tags": []
   },
   "outputs": [],
   "source": [
    "from scipy import stats\n",
    "import numpy as np\n",
    "\n",
    "class Ztest:\n",
    "        \n",
    "    def __init__(self, x, sigma, test_value = 0, alpha = 0.05, H1 = 'unequal'):\n",
    "        ''' \n",
    "        Runs a one-sample Z-test based on the specified input\n",
    "        \n",
    "        Input:\n",
    "          x          : the data sample (a vector)\n",
    "          sigma      : the standard deviation of the population from which x was drawn\n",
    "          test_value : the hypothesized population mean\n",
    "          alpha      : significance level for hypothesis testing\n",
    "          H1         : alternative hypothesis: 'unequal' (default), 'smaller', or 'larger'\n",
    "        '''\n",
    "        # set attributes\n",
    "        self.x = np.array(x)\n",
    "        self.sigma = sigma\n",
    "        self.test_value = test_value\n",
    "        self.alpha = alpha\n",
    "        self.H1 = H1\n",
    "        # run the test \n",
    "        self.run_test()\n",
    "        # show results\n",
    "        self.print_results()\n",
    "    \n",
    "    def deviates_from_normal(self):\n",
    "        '''Uses rules of thumb on skew and kurtosis (West et al., 1996) to determine if the sample deviates from a normal distribution'''\n",
    "        kurt = stats.kurtosis(self.x)\n",
    "        skew = stats.skew(self.x)\n",
    "        return (-7 < kurt < 7) and (-2 < skew < 2)\n",
    "    \n",
    "    def run_test(self):\n",
    "        '''Run the Z-test'''\n",
    "        self.z = (self.x.mean() - self.test_value) / (self.sigma / np.sqrt(len(self.x)))        \n",
    "        if self.H1 == 'unequal':\n",
    "            self.p_value = 2 * stats.norm.sf(abs(self.z))\n",
    "        elif self.H1 == 'smaller':\n",
    "            self.p_value = stats.norm.cdf(self.z)\n",
    "        elif self.H1 == 'larger':\n",
    "            self.p_value = 1 - stats.norm.cdf(self.z)\n",
    "        else:\n",
    "            raise ValueError(f'Invalid alternative hypothesis: {self.H1}')        \n",
    "        \n",
    "    def print_results(self):\n",
    "        '''Print the result of the statistical test'''\n",
    "        print(f'---------------------------------')\n",
    "        print(f'Z-test result')\n",
    "        print(f'---------------------------------')\n",
    "        print(f'n           = {len(self.x)}')        \n",
    "        print(f'sample mean = {self.x.mean():.2f}')\n",
    "        print(f'sigma       = {self.sigma:.2f}')\n",
    "        print(f'z           = {self.z:.2f}')\n",
    "        print(f'p           = {self.p_value:.4f}')\n",
    "        if self.deviates_from_normal():\n",
    "            print(f'\\nNote: the sample seems to come from a non-normal population (skew: {stats.skew(self.x):.1f}; kurtosis: {stats.kurtosis(self.x):.2f}); consider using a non-parametric test instead')\n",
    "        \n"
   ]
  },
  {
   "cell_type": "code",
   "execution_count": null,
   "id": "0e93c1b2-8af8-4ed1-8bbc-2f3ced3e7566",
   "metadata": {},
   "outputs": [],
   "source": [
    "class ttest:\n",
    "        \n",
    "    def __init__(self, x, alpha = 0.05, H1 = 'unequal', test_value = 0):\n",
    "        ''' \n",
    "        Runs a one- or two-sample Student t-test based on the specified input\n",
    "        \n",
    "        Input:\n",
    "          x          : the data sample (a vector or a list with two vectors in case of a two-sample test)\n",
    "          alpha      : significance level for hypothesis testing\n",
    "          H1         : alternative hypothesis: 'unequal' (default), 'smaller', or 'larger'\n",
    "          test_value : the hypothesized population mean (in case of a one-sample test)\n",
    "        '''\n",
    "        # set attributes\n",
    "        self.x = np.array(x)\n",
    "        self.alpha = alpha\n",
    "        self.H1 = H1\n",
    "        self.test_value = test_value\n",
    "        # run the test \n",
    "        self.run_test()\n",
    "        # show results\n",
    "        self.print_results()\n",
    "    \n",
    "    def deviates_from_normal(self):\n",
    "        '''Uses rules of thumb on skew and kurtosis (West et al., 1996) to determine if the sample deviates from a normal distribution'''\n",
    "        kurt = stats.kurtosis(self.x)\n",
    "        skew = stats.skew(self.x)\n",
    "        return (-7 < kurt < 7) and (-2 < skew < 2)\n",
    "    \n",
    "    def run_test(self):\n",
    "        '''Run the Z-test'''\n",
    "        self.z = (self.x.mean() - self.test_value) / (self.sigma / np.sqrt(len(self.x)))        \n",
    "        if self.H1 == 'unequal':\n",
    "            self.p_value = 2 * stats.norm.sf(abs(self.z))\n",
    "        elif self.H1 == 'smaller':\n",
    "            self.p_value = stats.norm.cdf(self.z)\n",
    "        elif self.H1 == 'larger':\n",
    "            self.p_value = 1 - stats.norm.cdf(self.z)\n",
    "        else:\n",
    "            raise ValueError(f'Invalid alternative hypothesis: {self.H1}')        \n",
    "        \n",
    "    def print_results(self):\n",
    "        '''Print the result of the statistical test'''\n",
    "        print(f'---------------------------------')\n",
    "        print(f'Z-test result')\n",
    "        print(f'---------------------------------')\n",
    "        print(f'n           = {len(self.x)}')        \n",
    "        print(f'sample mean = {self.x.mean():.2f}')\n",
    "        print(f'sigma       = {self.sigma:.2f}')\n",
    "        print(f'z           = {self.z:.2f}')\n",
    "        print(f'p           = {self.p_value:.4f}')\n",
    "        if self.deviates_from_normal():\n",
    "            print(f'\\nNote: the sample seems to come from a non-normal population (skew: {stats.skew(self.x):.1f}; kurtosis: {stats.kurtosis(self.x):.2f}); consider using a non-parametric test instead')\n",
    "        \n"
   ]
  },
  {
   "cell_type": "code",
   "execution_count": 31,
   "id": "d6af1d75-d632-4fb9-9051-a5d69b934e7d",
   "metadata": {},
   "outputs": [
    {
     "name": "stdout",
     "output_type": "stream",
     "text": [
      "---------------------------------\n",
      "Z-test result\n",
      "---------------------------------\n",
      "n           = 5\n",
      "sample mean = 2.40\n",
      "sigma       = 10.00\n",
      "z           = 0.54\n",
      "p           = 0.2958\n",
      "\n",
      "Note: the sample seems to come from a non-normal population (skew: -0.8; kurtosis: -0.92); consider using a non-parametric test instead\n"
     ]
    }
   ],
   "source": [
    "x = [4.186, 4.439, 4.781, 4.388, 4.947, 4.853, 4.889, 4.682, 4.428,  4.533, 4.557, 4.761, 4.491, 4.334, 4.83 , 4.268, 4.68 , 4.437, 5.382, 5.111, 5.096, 5.232, 5.033, 5.57 , 4.474, 4.789, 4.725, 4.84 , 4.817, 4.438, 4.754, 4.966, 4.285, 4.482, 4.396, 4.418, 4.514, 5.383, 5.264, 4.309, 5.058, 4.392, 4.788, 4.934, 4.967, 4.554, 4.42 , 5. , 5.126, 5.082, 4.944, 4.658]\n",
    "ztest = Ztest(x = x, sigma = 10, test_value = 0, alpha = .05, H1 = 'larger')"
   ]
  },
  {
   "cell_type": "code",
   "execution_count": 23,
   "id": "f291cc63-c246-4c2f-a81b-347093f53fd1",
   "metadata": {
    "tags": []
   },
   "outputs": [
    {
     "data": {
      "text/plain": [
       "0.19"
      ]
     },
     "execution_count": 23,
     "metadata": {},
     "output_type": "execute_result"
    }
   ],
   "source": [
    "data = [-30, 30]\n",
    "test_value = 100\n",
    "\n",
    "_, pvalue = stats.ttest_1samp(data, test_value)\n",
    "\n",
    "pvalue.round(2)"
   ]
  },
  {
   "cell_type": "code",
   "execution_count": null,
   "id": "c6e5cfdb-efd2-4711-9cac-46de316a08a6",
   "metadata": {},
   "outputs": [],
   "source": [
    "salary_women = [32000, 17000]  # 32k, 17k\n",
    "salary_men = [42000, 91000] # 42k, 90k\n",
    "\n",
    "_, pvalue = stats.ttest_ind(salary_women, salary_men)\n",
    "\n",
    "pvalue.round(2)"
   ]
  },
  {
   "cell_type": "code",
   "execution_count": null,
   "id": "ec8cdc3a-a25c-48d4-bee6-a187c903a4b4",
   "metadata": {},
   "outputs": [],
   "source": []
  }
 ],
 "metadata": {
  "kernelspec": {
   "display_name": "Python 3 (ipykernel)",
   "language": "python",
   "name": "python3"
  },
  "language_info": {
   "codemirror_mode": {
    "name": "ipython",
    "version": 3
   },
   "file_extension": ".py",
   "mimetype": "text/x-python",
   "name": "python",
   "nbconvert_exporter": "python",
   "pygments_lexer": "ipython3",
   "version": "3.9.13"
  }
 },
 "nbformat": 4,
 "nbformat_minor": 5
}
